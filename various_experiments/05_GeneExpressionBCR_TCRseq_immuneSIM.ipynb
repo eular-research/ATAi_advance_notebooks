{
 "cells": [
  {
   "cell_type": "markdown",
   "metadata": {},
   "source": [
    "# Install "
   ]
  },
  {
   "cell_type": "code",
   "execution_count": 2,
   "metadata": {
    "vscode": {
     "languageId": "r"
    }
   },
   "outputs": [
    {
     "name": "stderr",
     "output_type": "stream",
     "text": [
      "Loading required package: usethis\n",
      "\n"
     ]
    },
    {
     "name": "stderr",
     "output_type": "stream",
     "text": [
      "Using github PAT from envvar GITHUB_TOKEN. Use `gitcreds::gitcreds_set()` and unset GITHUB_TOKEN in .Renviron (or elsewhere) if you want to use the more secure git credential store instead.\n",
      "\n",
      "Downloading GitHub repo GreiffLab/immuneSIM@HEAD\n",
      "\n"
     ]
    },
    {
     "name": "stdout",
     "output_type": "stream",
     "text": [
      "R.utils     (NA     -> 2.12.3) [CRAN]\n",
      "R.oo        (NA     -> 1.26.0) [CRAN]\n",
      "R.methodsS3 (NA     -> 1.8.2 ) [CRAN]\n",
      "sys         (3.4.2  -> 3.4.3 ) [CRAN]\n",
      "askpass     (1.2.0  -> 1.2.1 ) [CRAN]\n",
      "openssl     (2.2.0  -> 2.2.2 ) [CRAN]\n",
      "jsonlite    (1.8.8  -> 1.8.9 ) [CRAN]\n",
      "curl        (5.1.0  -> 5.2.3 ) [CRAN]\n",
      "R.cache     (NA     -> 0.16.0) [CRAN]\n",
      "data.table  (1.15.2 -> 1.16.2) [CRAN]\n",
      "pracma      (NA     -> 2.4.4 ) [CRAN]\n",
      "repmis      (NA     -> 0.5   ) [CRAN]\n",
      "Metrics     (NA     -> 0.1.4 ) [CRAN]\n",
      "ggthemes    (NA     -> 5.1.0 ) [CRAN]\n",
      "poweRlaw    (NA     -> 0.80.0) [CRAN]\n"
     ]
    },
    {
     "name": "stderr",
     "output_type": "stream",
     "text": [
      "Skipping 1 packages not available: Biostrings\n",
      "\n",
      "Installing 15 packages: R.utils, R.oo, R.methodsS3, sys, askpass, openssl, jsonlite, curl, R.cache, data.table, pracma, repmis, Metrics, ggthemes, poweRlaw\n",
      "\n",
      "Warning message in i.p(...):\n",
      "“installation of package ‘curl’ had non-zero exit status”\n",
      "Updating HTML index of packages in '.Library'\n",
      "\n",
      "Making 'packages.html' ...\n",
      " done\n",
      "\n"
     ]
    },
    {
     "name": "stdout",
     "output_type": "stream",
     "text": [
      "\u001b[36m──\u001b[39m \u001b[36mR CMD build\u001b[39m \u001b[36m─────────────────────────────────────────────────────────────────\u001b[39m\n",
      "* checking for file ‘/tmp/RtmprMqzBH/remotes1616771ea492/GreiffLab-immuneSIM-eeff438/DESCRIPTION’ ... OK\n",
      "* preparing ‘immuneSIM’:\n",
      "* checking DESCRIPTION meta-information ... OK\n",
      "* checking for LF line-endings in source and make files and shell scripts\n",
      "* checking for empty or unneeded directories\n",
      "Omitted ‘LazyData’ from DESCRIPTION\n",
      "* building ‘immuneSIM_0.8.7.tar.gz’\n",
      "\n"
     ]
    }
   ],
   "source": [
    "library(devtools)\n",
    "install_github(\"GreiffLab/immuneSIM\")\n"
   ]
  },
  {
   "cell_type": "code",
   "execution_count": 3,
   "metadata": {
    "vscode": {
     "languageId": "r"
    }
   },
   "outputs": [
    {
     "name": "stdout",
     "output_type": "stream",
     "text": [
      "initializing sim..\n",
      "simulated sequences: 100 \n",
      "simulated sequences: 200 \n",
      "simulated sequences: 300 \n",
      "simulated sequences: 400 \n",
      "simulated sequences: 500 \n",
      "simulated sequences: 600 \n",
      "simulated sequences: 700 \n",
      "simulated sequences: 800 \n",
      "simulated sequences: 900 \n",
      "simulated sequences: 1000 \n"
     ]
    },
    {
     "name": "stderr",
     "output_type": "stream",
     "text": [
      "Warning message in ggplot2::scale_x_discrete(limit = c(1:number_of_positions)):\n",
      "“\u001b[1m\u001b[22mContinuous limits supplied to discrete scale.\n",
      "\u001b[36mℹ\u001b[39m Did you mean `limits = factor(...)` or `scale_*_continuous()`?”\n"
     ]
    },
    {
     "name": "stdout",
     "output_type": "stream",
     "text": [
      "Plots saved in PDF format in:  /workspaces/ATAi_advance_notebooks/test_data/TCR_BCR_seq/immuneSIM/plots/ \n"
     ]
    }
   ],
   "source": [
    "library(immuneSIM)\n",
    "\n",
    "sim_repertoire <- immuneSIM(\n",
    "        number_of_seqs = 1000,\n",
    "        species = \"mm\",\n",
    "        receptor = \"ig\",\n",
    "        chain = \"h\",\n",
    "        verbose= TRUE)\n",
    "\n",
    "save(sim_repertoire,file=\"sim_repertoire\")\n",
    "\n",
    "#output plots on repertoire (Note: you need to specify output directory)\n",
    "plot_report_repertoire(sim_repertoire, output_dir=\"/workspaces/ATAi_advance_notebooks/test_data/TCR_BCR_seq/immuneSIM/plots/\")"
   ]
  }
 ],
 "metadata": {
  "kernelspec": {
   "display_name": "R",
   "language": "R",
   "name": "ir"
  },
  "language_info": {
   "codemirror_mode": "r",
   "file_extension": ".r",
   "mimetype": "text/x-r-source",
   "name": "R",
   "pygments_lexer": "r",
   "version": "4.3.3"
  }
 },
 "nbformat": 4,
 "nbformat_minor": 2
}
